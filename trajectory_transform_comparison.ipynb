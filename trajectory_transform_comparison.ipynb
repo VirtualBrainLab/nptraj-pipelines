{
 "cells": [
  {
   "cell_type": "code",
   "execution_count": 37,
   "id": "78fc5323-ddf4-4d17-8fd5-209abed86d45",
   "metadata": {},
   "outputs": [],
   "source": [
    "import pandas as pd\n",
    "import numpy as np\n",
    "import matplotlib.pyplot as plt"
   ]
  },
  {
   "cell_type": "code",
   "execution_count": 102,
   "id": "bf21c52f-80fb-4bab-a9bc-6cb9e79f0785",
   "metadata": {},
   "outputs": [],
   "source": [
    "def computeDistance(data,ot,ct):\n",
    "    return np.sqrt(np.sum(np.power(data[ot].values-data[ct].values,2),axis=1))"
   ]
  },
  {
   "cell_type": "markdown",
   "id": "c27b8d1f-2746-456c-bcee-dcb1f78d8b08",
   "metadata": {},
   "source": [
    "# build trajectory data csv file"
   ]
  },
  {
   "cell_type": "code",
   "execution_count": null,
   "id": "f037852b-a5d4-4698-b1c3-c75602816946",
   "metadata": {},
   "outputs": [],
   "source": [
    "# Load all EIDs"
   ]
  },
  {
   "cell_type": "markdown",
   "id": "af220ac9-23a6-4d41-9ac4-02f7d541a04e",
   "metadata": {},
   "source": [
    "# analyze insertions"
   ]
  },
  {
   "cell_type": "code",
   "execution_count": 137,
   "id": "38793e8f-5620-48bc-928f-00c041d940ad",
   "metadata": {},
   "outputs": [],
   "source": [
    "data = pd.read_csv('./data/trajectory_data.csv')"
   ]
  },
  {
   "cell_type": "code",
   "execution_count": 138,
   "id": "c88c4709-4eb5-4173-afda-96afda1486b7",
   "metadata": {},
   "outputs": [],
   "source": [
    "# Remove data rows we are concerned about\n",
    "# 1: remove rows where px/py/pz are all equal to mx/my/mz\n",
    "data['pm_id'] = np.all(data[['px','py','pz']].values==data[['mx','my','mz']].values,\n",
    "                               axis=1)\n",
    "# 2: remove rows where mx/my/mz are too far from ex/ey/ez\n",
    "data['me_dist'] = computeDistance(data,['mx','my','mz'],['ex','ey','ez'])\n",
    "# 3: remove rows where ez > 0\n",
    "data['dir_error'] = data['ez']>0\n",
    "# 4: remove rows where mz > 0\n",
    "data['dir_error2'] = data['mz']>0\n",
    "\n",
    "data = data.loc[(data['pm_id']==False) & \n",
    "                (data['me_dist']<1000) & \n",
    "                (data['dir_error']==False) & \n",
    "                (data['dir_error2']==False)]"
   ]
  },
  {
   "cell_type": "code",
   "execution_count": null,
   "id": "b88d28a8-d31f-4937-9695-e4ad847bed5b",
   "metadata": {},
   "outputs": [],
   "source": [
    "print(f'{0} sessions with matched planned/micro-manip coordinates"
   ]
  },
  {
   "cell_type": "code",
   "execution_count": 124,
   "id": "c34e9e23-36d7-4d47-a23c-62dbf98c0ffb",
   "metadata": {},
   "outputs": [
    {
     "data": {
      "text/html": [
       "<div>\n",
       "<style scoped>\n",
       "    .dataframe tbody tr th:only-of-type {\n",
       "        vertical-align: middle;\n",
       "    }\n",
       "\n",
       "    .dataframe tbody tr th {\n",
       "        vertical-align: top;\n",
       "    }\n",
       "\n",
       "    .dataframe thead th {\n",
       "        text-align: right;\n",
       "    }\n",
       "</style>\n",
       "<table border=\"1\" class=\"dataframe\">\n",
       "  <thead>\n",
       "    <tr style=\"text-align: right;\">\n",
       "      <th></th>\n",
       "      <th>Unnamed: 0</th>\n",
       "      <th>pid</th>\n",
       "      <th>px</th>\n",
       "      <th>py</th>\n",
       "      <th>pz</th>\n",
       "      <th>mx</th>\n",
       "      <th>my</th>\n",
       "      <th>mz</th>\n",
       "      <th>ex</th>\n",
       "      <th>ey</th>\n",
       "      <th>ez</th>\n",
       "      <th>pm_id</th>\n",
       "      <th>me_dist</th>\n",
       "      <th>dir_error</th>\n",
       "      <th>dir_error2</th>\n",
       "    </tr>\n",
       "  </thead>\n",
       "  <tbody>\n",
       "    <tr>\n",
       "      <th>0</th>\n",
       "      <td>0</td>\n",
       "      <td>ef03e569-2b50-4534-89f4-fb1e56e81461</td>\n",
       "      <td>-2243.0</td>\n",
       "      <td>-2000</td>\n",
       "      <td>-169</td>\n",
       "      <td>-1887.0</td>\n",
       "      <td>-2105.4</td>\n",
       "      <td>-190.7</td>\n",
       "      <td>-2089.000000</td>\n",
       "      <td>-2050.000000</td>\n",
       "      <td>-68</td>\n",
       "      <td>False</td>\n",
       "      <td>242.751828</td>\n",
       "      <td>False</td>\n",
       "      <td>False</td>\n",
       "    </tr>\n",
       "    <tr>\n",
       "      <th>2</th>\n",
       "      <td>2</td>\n",
       "      <td>f4f45cff-c45c-413a-92ea-b6533e3e0019</td>\n",
       "      <td>-1829.0</td>\n",
       "      <td>250</td>\n",
       "      <td>-551</td>\n",
       "      <td>-1818.0</td>\n",
       "      <td>250.0</td>\n",
       "      <td>-581.0</td>\n",
       "      <td>-2094.813917</td>\n",
       "      <td>-132.118553</td>\n",
       "      <td>-468</td>\n",
       "      <td>False</td>\n",
       "      <td>485.190203</td>\n",
       "      <td>False</td>\n",
       "      <td>False</td>\n",
       "    </tr>\n",
       "    <tr>\n",
       "      <th>4</th>\n",
       "      <td>4</td>\n",
       "      <td>7bc16ab1-1b0d-4f52-9e4b-210106ea344c</td>\n",
       "      <td>1245.0</td>\n",
       "      <td>-6250</td>\n",
       "      <td>-448</td>\n",
       "      <td>1232.5</td>\n",
       "      <td>-6242.5</td>\n",
       "      <td>-1178.2</td>\n",
       "      <td>1461.000000</td>\n",
       "      <td>-6175.000000</td>\n",
       "      <td>-843</td>\n",
       "      <td>False</td>\n",
       "      <td>411.251188</td>\n",
       "      <td>False</td>\n",
       "      <td>False</td>\n",
       "    </tr>\n",
       "    <tr>\n",
       "      <th>5</th>\n",
       "      <td>5</td>\n",
       "      <td>39883ded-f5a2-4f4f-a98e-fb138eb8433e</td>\n",
       "      <td>2236.0</td>\n",
       "      <td>-6750</td>\n",
       "      <td>-1032</td>\n",
       "      <td>2217.0</td>\n",
       "      <td>-6753.0</td>\n",
       "      <td>-1488.0</td>\n",
       "      <td>1886.000000</td>\n",
       "      <td>-6275.000000</td>\n",
       "      <td>-943</td>\n",
       "      <td>False</td>\n",
       "      <td>796.912793</td>\n",
       "      <td>False</td>\n",
       "      <td>False</td>\n",
       "    </tr>\n",
       "    <tr>\n",
       "      <th>6</th>\n",
       "      <td>6</td>\n",
       "      <td>55423355-281c-41f2-8ef7-5aa098ffbbed</td>\n",
       "      <td>-3430.0</td>\n",
       "      <td>-1750</td>\n",
       "      <td>-694</td>\n",
       "      <td>-3380.0</td>\n",
       "      <td>-1756.0</td>\n",
       "      <td>-920.0</td>\n",
       "      <td>-3614.000000</td>\n",
       "      <td>-1600.000000</td>\n",
       "      <td>-793</td>\n",
       "      <td>False</td>\n",
       "      <td>308.579001</td>\n",
       "      <td>False</td>\n",
       "      <td>False</td>\n",
       "    </tr>\n",
       "    <tr>\n",
       "      <th>...</th>\n",
       "      <td>...</td>\n",
       "      <td>...</td>\n",
       "      <td>...</td>\n",
       "      <td>...</td>\n",
       "      <td>...</td>\n",
       "      <td>...</td>\n",
       "      <td>...</td>\n",
       "      <td>...</td>\n",
       "      <td>...</td>\n",
       "      <td>...</td>\n",
       "      <td>...</td>\n",
       "      <td>...</td>\n",
       "      <td>...</td>\n",
       "      <td>...</td>\n",
       "      <td>...</td>\n",
       "    </tr>\n",
       "    <tr>\n",
       "      <th>671</th>\n",
       "      <td>671</td>\n",
       "      <td>70da415f-444d-4148-ade7-a1f58a16fcf8</td>\n",
       "      <td>-2243.0</td>\n",
       "      <td>-2000</td>\n",
       "      <td>-169</td>\n",
       "      <td>-2284.6</td>\n",
       "      <td>-2079.2</td>\n",
       "      <td>-451.0</td>\n",
       "      <td>-2664.000000</td>\n",
       "      <td>-2000.000000</td>\n",
       "      <td>-243</td>\n",
       "      <td>False</td>\n",
       "      <td>439.864752</td>\n",
       "      <td>False</td>\n",
       "      <td>False</td>\n",
       "    </tr>\n",
       "    <tr>\n",
       "      <th>673</th>\n",
       "      <td>673</td>\n",
       "      <td>72274871-80e5-4fb9-be1a-bb04acebb1de</td>\n",
       "      <td>-3577.0</td>\n",
       "      <td>-4000</td>\n",
       "      <td>-884</td>\n",
       "      <td>-3973.8</td>\n",
       "      <td>-3835.2</td>\n",
       "      <td>-1445.6</td>\n",
       "      <td>-3989.000000</td>\n",
       "      <td>-3625.000000</td>\n",
       "      <td>-1218</td>\n",
       "      <td>False</td>\n",
       "      <td>310.188394</td>\n",
       "      <td>False</td>\n",
       "      <td>False</td>\n",
       "    </tr>\n",
       "    <tr>\n",
       "      <th>676</th>\n",
       "      <td>676</td>\n",
       "      <td>e018f54c-e404-4232-8cb3-119ac1b2c7f1</td>\n",
       "      <td>800.0</td>\n",
       "      <td>1000</td>\n",
       "      <td>-622</td>\n",
       "      <td>544.0</td>\n",
       "      <td>1285.0</td>\n",
       "      <td>0.0</td>\n",
       "      <td>595.025390</td>\n",
       "      <td>1616.484692</td>\n",
       "      <td>-868</td>\n",
       "      <td>False</td>\n",
       "      <td>930.542687</td>\n",
       "      <td>False</td>\n",
       "      <td>False</td>\n",
       "    </tr>\n",
       "    <tr>\n",
       "      <th>679</th>\n",
       "      <td>679</td>\n",
       "      <td>3017e4dc-2150-43ad-9b08-b95b48ba8dfa</td>\n",
       "      <td>-1821.0</td>\n",
       "      <td>-1750</td>\n",
       "      <td>-74</td>\n",
       "      <td>-1828.9</td>\n",
       "      <td>-1749.1</td>\n",
       "      <td>-384.0</td>\n",
       "      <td>-2014.000000</td>\n",
       "      <td>-1700.000000</td>\n",
       "      <td>-93</td>\n",
       "      <td>False</td>\n",
       "      <td>348.358752</td>\n",
       "      <td>False</td>\n",
       "      <td>False</td>\n",
       "    </tr>\n",
       "    <tr>\n",
       "      <th>680</th>\n",
       "      <td>680</td>\n",
       "      <td>625a7bc9-00cf-44f6-a508-3ed89d23ba3a</td>\n",
       "      <td>-4364.0</td>\n",
       "      <td>-4000</td>\n",
       "      <td>-1678</td>\n",
       "      <td>-4123.6</td>\n",
       "      <td>-4029.8</td>\n",
       "      <td>-1778.4</td>\n",
       "      <td>-4114.000000</td>\n",
       "      <td>-3750.000000</td>\n",
       "      <td>-1418</td>\n",
       "      <td>False</td>\n",
       "      <td>456.364284</td>\n",
       "      <td>False</td>\n",
       "      <td>False</td>\n",
       "    </tr>\n",
       "  </tbody>\n",
       "</table>\n",
       "<p>422 rows × 15 columns</p>\n",
       "</div>"
      ],
      "text/plain": [
       "     Unnamed: 0                                   pid      px    py    pz  \\\n",
       "0             0  ef03e569-2b50-4534-89f4-fb1e56e81461 -2243.0 -2000  -169   \n",
       "2             2  f4f45cff-c45c-413a-92ea-b6533e3e0019 -1829.0   250  -551   \n",
       "4             4  7bc16ab1-1b0d-4f52-9e4b-210106ea344c  1245.0 -6250  -448   \n",
       "5             5  39883ded-f5a2-4f4f-a98e-fb138eb8433e  2236.0 -6750 -1032   \n",
       "6             6  55423355-281c-41f2-8ef7-5aa098ffbbed -3430.0 -1750  -694   \n",
       "..          ...                                   ...     ...   ...   ...   \n",
       "671         671  70da415f-444d-4148-ade7-a1f58a16fcf8 -2243.0 -2000  -169   \n",
       "673         673  72274871-80e5-4fb9-be1a-bb04acebb1de -3577.0 -4000  -884   \n",
       "676         676  e018f54c-e404-4232-8cb3-119ac1b2c7f1   800.0  1000  -622   \n",
       "679         679  3017e4dc-2150-43ad-9b08-b95b48ba8dfa -1821.0 -1750   -74   \n",
       "680         680  625a7bc9-00cf-44f6-a508-3ed89d23ba3a -4364.0 -4000 -1678   \n",
       "\n",
       "         mx      my      mz           ex           ey    ez  pm_id  \\\n",
       "0   -1887.0 -2105.4  -190.7 -2089.000000 -2050.000000   -68  False   \n",
       "2   -1818.0   250.0  -581.0 -2094.813917  -132.118553  -468  False   \n",
       "4    1232.5 -6242.5 -1178.2  1461.000000 -6175.000000  -843  False   \n",
       "5    2217.0 -6753.0 -1488.0  1886.000000 -6275.000000  -943  False   \n",
       "6   -3380.0 -1756.0  -920.0 -3614.000000 -1600.000000  -793  False   \n",
       "..      ...     ...     ...          ...          ...   ...    ...   \n",
       "671 -2284.6 -2079.2  -451.0 -2664.000000 -2000.000000  -243  False   \n",
       "673 -3973.8 -3835.2 -1445.6 -3989.000000 -3625.000000 -1218  False   \n",
       "676   544.0  1285.0     0.0   595.025390  1616.484692  -868  False   \n",
       "679 -1828.9 -1749.1  -384.0 -2014.000000 -1700.000000   -93  False   \n",
       "680 -4123.6 -4029.8 -1778.4 -4114.000000 -3750.000000 -1418  False   \n",
       "\n",
       "        me_dist  dir_error  dir_error2  \n",
       "0    242.751828      False       False  \n",
       "2    485.190203      False       False  \n",
       "4    411.251188      False       False  \n",
       "5    796.912793      False       False  \n",
       "6    308.579001      False       False  \n",
       "..          ...        ...         ...  \n",
       "671  439.864752      False       False  \n",
       "673  310.188394      False       False  \n",
       "676  930.542687      False       False  \n",
       "679  348.358752      False       False  \n",
       "680  456.364284      False       False  \n",
       "\n",
       "[422 rows x 15 columns]"
      ]
     },
     "execution_count": 124,
     "metadata": {},
     "output_type": "execute_result"
    }
   ],
   "source": [
    "data"
   ]
  },
  {
   "cell_type": "code",
   "execution_count": 139,
   "id": "0b308c2b-b8e0-4fb4-b80b-77ea951fb20c",
   "metadata": {},
   "outputs": [],
   "source": [
    "needlesInverse = (1 / 1.087, 1, 1 / 0.952)\n",
    "mriInverse = (0.97, 1.05, 1.13)"
   ]
  },
  {
   "cell_type": "code",
   "execution_count": 140,
   "id": "a5843d97-bc47-4d75-bc96-ba75bf9be9d0",
   "metadata": {},
   "outputs": [],
   "source": [
    "# run mx/my/z through the two inverses, then compare distances\n",
    "data['mx_ni'] = data['mx']*needlesInverse[0]\n",
    "data['my_ni'] = data['my']*needlesInverse[1]\n",
    "data['mz_ni'] = data['mz']*needlesInverse[2]\n",
    "\n",
    "data['mx_mi'] = data['mx']*mriInverse[0]\n",
    "data['my_mi'] = data['my']*mriInverse[0]\n",
    "data['mz_mi'] = data['mz']*mriInverse[0]"
   ]
  },
  {
   "cell_type": "code",
   "execution_count": 147,
   "id": "b1586621-b421-480b-bbc5-b6f238f31456",
   "metadata": {},
   "outputs": [],
   "source": [
    "needlesDist = computeDistance(data,['mx_ni','my_ni','mz_ni'],['ex','ey','ez'])\n",
    "mriDist = computeDistance(data,['mx_mi','my_mi','mz_mi'],['ex','ey','ez'])\n",
    "rawDist = computeDistance(data,['mx','my','mz'],['ex','ey','ez'])"
   ]
  },
  {
   "cell_type": "code",
   "execution_count": 142,
   "id": "ec48cc95-b93b-48f6-bbf8-e5731e979427",
   "metadata": {},
   "outputs": [
    {
     "data": {
      "text/plain": [
       "611.0911193032834"
      ]
     },
     "execution_count": 142,
     "metadata": {},
     "output_type": "execute_result"
    }
   ],
   "source": [
    "np.median(needlesDist)"
   ]
  },
  {
   "cell_type": "code",
   "execution_count": 143,
   "id": "12271ca8-9f97-40c0-8ae2-ea0c8a227a6e",
   "metadata": {},
   "outputs": [
    {
     "data": {
      "text/plain": [
       "538.2979324556243"
      ]
     },
     "execution_count": 143,
     "metadata": {},
     "output_type": "execute_result"
    }
   ],
   "source": [
    "np.median(mriDist)"
   ]
  },
  {
   "cell_type": "code",
   "execution_count": 144,
   "id": "1e08e917-02a4-4c5a-a3b9-157f28feba0d",
   "metadata": {},
   "outputs": [
    {
     "data": {
      "text/plain": [
       "611.8289109049389"
      ]
     },
     "execution_count": 144,
     "metadata": {},
     "output_type": "execute_result"
    }
   ],
   "source": [
    "np.average(needlesDist)"
   ]
  },
  {
   "cell_type": "code",
   "execution_count": 145,
   "id": "fa17520a-29f9-4744-83b6-c3432d13ebc8",
   "metadata": {},
   "outputs": [
    {
     "data": {
      "text/plain": [
       "562.6694004041028"
      ]
     },
     "execution_count": 145,
     "metadata": {},
     "output_type": "execute_result"
    }
   ],
   "source": [
    "np.average(mriDist)"
   ]
  },
  {
   "cell_type": "code",
   "execution_count": 149,
   "id": "64d52560-c622-4ae4-909f-5b4fa2d7a134",
   "metadata": {},
   "outputs": [
    {
     "name": "stdout",
     "output_type": "stream",
     "text": [
      "(528.9175928251963, 539.1710188008358)\n"
     ]
    }
   ],
   "source": [
    "print((np.median(rawDist),np.mean(rawDist)))"
   ]
  },
  {
   "cell_type": "code",
   "execution_count": 150,
   "id": "7c11ab94-498a-40fc-ba39-161db45d677e",
   "metadata": {},
   "outputs": [
    {
     "data": {
      "image/png": "[encoded data removed]",
      "text/plain": [
       "<Figure size 800x480 with 1 Axes>"
      ]
     },
     "metadata": {
      "needs_background": "light"
     },
     "output_type": "display_data"
    }
   ],
   "source": [
    "bins = np.linspace(0,1600,50)\n",
    "plt.figure(figsize=(10, 6), dpi=80)\n",
    "plt.hist([needlesDist,mriDist,rawDist], bins, alpha=0.5, label=['NeedlesTransform','MRIAvgTransform','raw'])\n",
    "plt.legend(loc='upper right')\n",
    "plt.xlabel('Distance between micro-manip and histology tip positions, in CCF (um)')\n",
    "plt.show()"
   ]
  },
  {
   "cell_type": "code",
   "execution_count": null,
   "id": "f68be8fc-aba2-4f32-bb78-878563989530",
   "metadata": {},
   "outputs": [],
   "source": []
  },
  {
   "cell_type": "code",
   "execution_count": null,
   "id": "9b8f6d5d-59f0-4749-9363-7b9acb389c8c",
   "metadata": {},
   "outputs": [],
   "source": []
  }
 ],
 "metadata": {
  "kernelspec": {
   "display_name": "Python [conda env:iblenv] *",
   "language": "python",
   "name": "conda-env-iblenv-py"
  },
  "language_info": {
   "codemirror_mode": {
    "name": "ipython",
    "version": 3
   },
   "file_extension": ".py",
   "mimetype": "text/x-python",
   "name": "python",
   "nbconvert_exporter": "python",
   "pygments_lexer": "ipython3",
   "version": "3.9.0"
  }
 },
 "nbformat": 4,
 "nbformat_minor": 5
}
