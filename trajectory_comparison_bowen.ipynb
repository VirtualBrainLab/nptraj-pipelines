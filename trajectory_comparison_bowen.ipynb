{
 "cells": [
  {
   "cell_type": "code",
   "execution_count": 34,
   "metadata": {},
   "outputs": [],
   "source": [
    "import numpy as np\n",
    "import pandas as pd\n",
    "import matplotlib.pyplot as plt"
   ]
  },
  {
   "cell_type": "code",
   "execution_count": 30,
   "metadata": {},
   "outputs": [],
   "source": [
    "def vec2dist(vec0, vec1):\n",
    "    return np.hypot(vec0[0]-vec1[0], vec0[1]-vec1[1])"
   ]
  },
  {
   "cell_type": "code",
   "execution_count": 7,
   "metadata": {},
   "outputs": [],
   "source": [
    "ccf_to_mri = (-1.031, 0.952, -0.885)"
   ]
  },
  {
   "cell_type": "code",
   "execution_count": 8,
   "metadata": {},
   "outputs": [],
   "source": [
    "df = pd.read_csv('./data/insertionData.csv')"
   ]
  },
  {
   "cell_type": "code",
   "execution_count": 9,
   "metadata": {},
   "outputs": [
    {
     "data": {
      "text/html": [
       "<div>\n",
       "<style scoped>\n",
       "    .dataframe tbody tr th:only-of-type {\n",
       "        vertical-align: middle;\n",
       "    }\n",
       "\n",
       "    .dataframe tbody tr th {\n",
       "        vertical-align: top;\n",
       "    }\n",
       "\n",
       "    .dataframe thead th {\n",
       "        text-align: right;\n",
       "    }\n",
       "</style>\n",
       "<table border=\"1\" class=\"dataframe\">\n",
       "  <thead>\n",
       "    <tr style=\"text-align: right;\">\n",
       "      <th></th>\n",
       "      <th>Mouse</th>\n",
       "      <th>Date</th>\n",
       "      <th>En</th>\n",
       "      <th>Probe</th>\n",
       "      <th>ML</th>\n",
       "      <th>AP</th>\n",
       "      <th>DV</th>\n",
       "      <th>theta</th>\n",
       "      <th>phi</th>\n",
       "      <th>Insertion_1</th>\n",
       "      <th>Insertion_2</th>\n",
       "      <th>Insertion_3</th>\n",
       "      <th>MSE</th>\n",
       "    </tr>\n",
       "  </thead>\n",
       "  <tbody>\n",
       "    <tr>\n",
       "      <th>0</th>\n",
       "      <td>ab_0003</td>\n",
       "      <td>2021-04-26</td>\n",
       "      <td>1</td>\n",
       "      <td>p1</td>\n",
       "      <td>1100</td>\n",
       "      <td>-1250</td>\n",
       "      <td>6000</td>\n",
       "      <td>90.0</td>\n",
       "      <td>0</td>\n",
       "      <td>1036.0</td>\n",
       "      <td>-1450</td>\n",
       "      <td>-193.0</td>\n",
       "      <td>209.990476</td>\n",
       "    </tr>\n",
       "    <tr>\n",
       "      <th>1</th>\n",
       "      <td>ab_0003</td>\n",
       "      <td>2021-04-27</td>\n",
       "      <td>1</td>\n",
       "      <td>p1</td>\n",
       "      <td>750</td>\n",
       "      <td>-1000</td>\n",
       "      <td>5100</td>\n",
       "      <td>70.0</td>\n",
       "      <td>180</td>\n",
       "      <td>961.0</td>\n",
       "      <td>-850</td>\n",
       "      <td>-318.0</td>\n",
       "      <td>258.884144</td>\n",
       "    </tr>\n",
       "    <tr>\n",
       "      <th>2</th>\n",
       "      <td>ab_0003</td>\n",
       "      <td>2021-05-19</td>\n",
       "      <td>1</td>\n",
       "      <td>p1</td>\n",
       "      <td>-950</td>\n",
       "      <td>1600</td>\n",
       "      <td>2550</td>\n",
       "      <td>75.0</td>\n",
       "      <td>180</td>\n",
       "      <td>-764.0</td>\n",
       "      <td>2000</td>\n",
       "      <td>-1293.0</td>\n",
       "      <td>441.130366</td>\n",
       "    </tr>\n",
       "    <tr>\n",
       "      <th>3</th>\n",
       "      <td>ab_0003</td>\n",
       "      <td>2021-05-20</td>\n",
       "      <td>1</td>\n",
       "      <td>p1</td>\n",
       "      <td>-2000</td>\n",
       "      <td>2300</td>\n",
       "      <td>2500</td>\n",
       "      <td>90.0</td>\n",
       "      <td>0</td>\n",
       "      <td>-1964.0</td>\n",
       "      <td>2600</td>\n",
       "      <td>-1618.0</td>\n",
       "      <td>302.152279</td>\n",
       "    </tr>\n",
       "    <tr>\n",
       "      <th>4</th>\n",
       "      <td>ab_0003</td>\n",
       "      <td>2021-05-21</td>\n",
       "      <td>1</td>\n",
       "      <td>p1</td>\n",
       "      <td>-800</td>\n",
       "      <td>1000</td>\n",
       "      <td>4250</td>\n",
       "      <td>90.0</td>\n",
       "      <td>0</td>\n",
       "      <td>-1039.0</td>\n",
       "      <td>1675</td>\n",
       "      <td>-1018.0</td>\n",
       "      <td>716.062846</td>\n",
       "    </tr>\n",
       "    <tr>\n",
       "      <th>...</th>\n",
       "      <td>...</td>\n",
       "      <td>...</td>\n",
       "      <td>...</td>\n",
       "      <td>...</td>\n",
       "      <td>...</td>\n",
       "      <td>...</td>\n",
       "      <td>...</td>\n",
       "      <td>...</td>\n",
       "      <td>...</td>\n",
       "      <td>...</td>\n",
       "      <td>...</td>\n",
       "      <td>...</td>\n",
       "      <td>...</td>\n",
       "    </tr>\n",
       "    <tr>\n",
       "      <th>134</th>\n",
       "      <td>ab_0024</td>\n",
       "      <td>2022-09-22</td>\n",
       "      <td>1</td>\n",
       "      <td>p0</td>\n",
       "      <td>1500</td>\n",
       "      <td>-4950</td>\n",
       "      <td>4220</td>\n",
       "      <td>80.0</td>\n",
       "      <td>-90</td>\n",
       "      <td>1761.0</td>\n",
       "      <td>-5325</td>\n",
       "      <td>-1118.0</td>\n",
       "      <td>456.887295</td>\n",
       "    </tr>\n",
       "    <tr>\n",
       "      <th>135</th>\n",
       "      <td>ab_0024</td>\n",
       "      <td>2022-09-27</td>\n",
       "      <td>1</td>\n",
       "      <td>p0</td>\n",
       "      <td>-520</td>\n",
       "      <td>-2300</td>\n",
       "      <td>4850</td>\n",
       "      <td>90.0</td>\n",
       "      <td>0</td>\n",
       "      <td>-739.0</td>\n",
       "      <td>-2400</td>\n",
       "      <td>-43.0</td>\n",
       "      <td>240.750909</td>\n",
       "    </tr>\n",
       "    <tr>\n",
       "      <th>136</th>\n",
       "      <td>ab_0024</td>\n",
       "      <td>2022-09-28</td>\n",
       "      <td>3</td>\n",
       "      <td>p0</td>\n",
       "      <td>-530</td>\n",
       "      <td>-2700</td>\n",
       "      <td>4800</td>\n",
       "      <td>90.0</td>\n",
       "      <td>0</td>\n",
       "      <td>-739.0</td>\n",
       "      <td>-2650</td>\n",
       "      <td>-93.0</td>\n",
       "      <td>214.897650</td>\n",
       "    </tr>\n",
       "    <tr>\n",
       "      <th>137</th>\n",
       "      <td>ab_0024</td>\n",
       "      <td>2022-09-29</td>\n",
       "      <td>1</td>\n",
       "      <td>p0</td>\n",
       "      <td>-2500</td>\n",
       "      <td>-1200</td>\n",
       "      <td>5600</td>\n",
       "      <td>85.0</td>\n",
       "      <td>0</td>\n",
       "      <td>-2839.0</td>\n",
       "      <td>-1175</td>\n",
       "      <td>-568.0</td>\n",
       "      <td>339.920579</td>\n",
       "    </tr>\n",
       "    <tr>\n",
       "      <th>138</th>\n",
       "      <td>ab_0024</td>\n",
       "      <td>2022-09-30</td>\n",
       "      <td>1</td>\n",
       "      <td>p0</td>\n",
       "      <td>-2600</td>\n",
       "      <td>-1500</td>\n",
       "      <td>5650</td>\n",
       "      <td>85.0</td>\n",
       "      <td>0</td>\n",
       "      <td>-2739.0</td>\n",
       "      <td>-1475</td>\n",
       "      <td>-518.0</td>\n",
       "      <td>141.230308</td>\n",
       "    </tr>\n",
       "  </tbody>\n",
       "</table>\n",
       "<p>139 rows × 13 columns</p>\n",
       "</div>"
      ],
      "text/plain": [
       "       Mouse        Date  En Probe    ML    AP    DV  theta  phi  Insertion_1  \\\n",
       "0    ab_0003  2021-04-26   1    p1  1100 -1250  6000   90.0    0       1036.0   \n",
       "1    ab_0003  2021-04-27   1    p1   750 -1000  5100   70.0  180        961.0   \n",
       "2    ab_0003  2021-05-19   1    p1  -950  1600  2550   75.0  180       -764.0   \n",
       "3    ab_0003  2021-05-20   1    p1 -2000  2300  2500   90.0    0      -1964.0   \n",
       "4    ab_0003  2021-05-21   1    p1  -800  1000  4250   90.0    0      -1039.0   \n",
       "..       ...         ...  ..   ...   ...   ...   ...    ...  ...          ...   \n",
       "134  ab_0024  2022-09-22   1    p0  1500 -4950  4220   80.0  -90       1761.0   \n",
       "135  ab_0024  2022-09-27   1    p0  -520 -2300  4850   90.0    0       -739.0   \n",
       "136  ab_0024  2022-09-28   3    p0  -530 -2700  4800   90.0    0       -739.0   \n",
       "137  ab_0024  2022-09-29   1    p0 -2500 -1200  5600   85.0    0      -2839.0   \n",
       "138  ab_0024  2022-09-30   1    p0 -2600 -1500  5650   85.0    0      -2739.0   \n",
       "\n",
       "     Insertion_2  Insertion_3         MSE  \n",
       "0          -1450       -193.0  209.990476  \n",
       "1           -850       -318.0  258.884144  \n",
       "2           2000      -1293.0  441.130366  \n",
       "3           2600      -1618.0  302.152279  \n",
       "4           1675      -1018.0  716.062846  \n",
       "..           ...          ...         ...  \n",
       "134        -5325      -1118.0  456.887295  \n",
       "135        -2400        -43.0  240.750909  \n",
       "136        -2650        -93.0  214.897650  \n",
       "137        -1175       -568.0  339.920579  \n",
       "138        -1475       -518.0  141.230308  \n",
       "\n",
       "[139 rows x 13 columns]"
      ]
     },
     "execution_count": 9,
     "metadata": {},
     "output_type": "execute_result"
    }
   ],
   "source": [
    "df"
   ]
  },
  {
   "cell_type": "code",
   "execution_count": 14,
   "metadata": {},
   "outputs": [],
   "source": [
    "ml = np.array(df['ML'].values)\n",
    "ap = np.array(df['AP'].values)"
   ]
  },
  {
   "cell_type": "code",
   "execution_count": 24,
   "metadata": {},
   "outputs": [],
   "source": [
    "ml = ml / ccf_to_mri[0]\n",
    "ap = ap / ccf_to_mri[1]\n",
    "ml_ephys = df['Insertion_1'].values\n",
    "ap_ephys = df['Insertion_2'].values"
   ]
  },
  {
   "cell_type": "code",
   "execution_count": 36,
   "metadata": {},
   "outputs": [],
   "source": [
    "MSE_mri = np.zeros(ml.shape)\n",
    "for i in np.arange(len(ml)):\n",
    "    MSE_mri[i] = vec2dist((ml[i],ap[i]), (ml_ephys[i], ap_ephys[i]))"
   ]
  },
  {
   "cell_type": "code",
   "execution_count": 37,
   "metadata": {},
   "outputs": [],
   "source": [
    "MSE_ccf = df['MSE']"
   ]
  },
  {
   "cell_type": "code",
   "execution_count": 41,
   "metadata": {},
   "outputs": [
    {
     "data": {
      "text/plain": [
       "[<matplotlib.lines.Line2D at 0x1eda78a2a90>]"
      ]
     },
     "execution_count": 41,
     "metadata": {},
     "output_type": "execute_result"
    },
    {
     "data": {
      "image/png": "[encoded data removed]",
      "text/plain": [
       "<Figure size 432x288 with 1 Axes>"
      ]
     },
     "metadata": {
      "needs_background": "light"
     },
     "output_type": "display_data"
    }
   ],
   "source": [
    "plt.figure()\n",
    "plt.plot(MSE_ccf, MSE_mri,'o')\n",
    "plt.plot([0,0],[1750,1750],'-')"
   ]
  },
  {
   "cell_type": "code",
   "execution_count": 27,
   "metadata": {},
   "outputs": [
    {
     "data": {
      "text/plain": [
       "(-2301.1169256048365, -1738.5228930919873)"
      ]
     },
     "execution_count": 27,
     "metadata": {},
     "output_type": "execute_result"
    }
   ],
   "source": [
    "(ml[i],ap[i])"
   ]
  },
  {
   "cell_type": "code",
   "execution_count": 28,
   "metadata": {},
   "outputs": [
    {
     "data": {
      "text/plain": [
       "(-2739.0, -1475)"
      ]
     },
     "execution_count": 28,
     "metadata": {},
     "output_type": "execute_result"
    }
   ],
   "source": [
    "(ml_ephys[i], ap_ephys[i])"
   ]
  },
  {
   "cell_type": "code",
   "execution_count": 29,
   "metadata": {},
   "outputs": [
    {
     "data": {
      "text/plain": [
       "511.063500971583"
      ]
     },
     "execution_count": 29,
     "metadata": {},
     "output_type": "execute_result"
    }
   ],
   "source": [
    "np.hypot(ml[i]-ml_ephys[i], ap[i]-ap_ephys[i])"
   ]
  },
  {
   "cell_type": "code",
   "execution_count": null,
   "metadata": {},
   "outputs": [],
   "source": []
  }
 ],
 "metadata": {
  "kernelspec": {
   "display_name": "iblenv",
   "language": "python",
   "name": "python3"
  },
  "language_info": {
   "codemirror_mode": {
    "name": "ipython",
    "version": 3
   },
   "file_extension": ".py",
   "mimetype": "text/x-python",
   "name": "python",
   "nbconvert_exporter": "python",
   "pygments_lexer": "ipython3",
   "version": "3.9.0"
  },
  "orig_nbformat": 4,
  "vscode": {
   "interpreter": {
    "hash": "e571d860348ccccbb87c9afaea3b8de5dc8c1513265a6c0fcfe6ac69a4d3ce4b"
   }
  }
 },
 "nbformat": 4,
 "nbformat_minor": 2
}
